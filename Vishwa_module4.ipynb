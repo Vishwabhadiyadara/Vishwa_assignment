{
 "cells": [
  {
   "cell_type": "code",
   "execution_count": null,
   "id": "a85081cc",
   "metadata": {},
   "outputs": [],
   "source": [
    "#1.What is File function in python? What is keywords to create and write file.\n",
    "#Python file object provides methods and attributes to access and manipulate files. Using file objects, we can read or write\n",
    "#any files. Whenever we open a file to perform any operations on it, Python returns a file object\n",
    "#To create a file keyword is 'x' and for write a file keyword is 'w'. "
   ]
  },
  {
   "cell_type": "code",
   "execution_count": null,
   "id": "caec4f22",
   "metadata": {},
   "outputs": [],
   "source": [
    "#2.Write a Python program to read an entire text file.\n",
    "file1 = open('new.txt','r')\n",
    "file1.read()"
   ]
  },
  {
   "cell_type": "code",
   "execution_count": null,
   "id": "cdee3f22",
   "metadata": {},
   "outputs": [],
   "source": [
    "#3.Write a Python program to append text to a file and display the text.\n",
    "# file1 = open('new.txt','a')\n",
    "# file1.write('this is append mode')\n",
    "# file1.close()\n",
    "file1 = open('new.txt','r')\n",
    "file1.read()"
   ]
  },
  {
   "cell_type": "code",
   "execution_count": null,
   "id": "f16fcae6",
   "metadata": {},
   "outputs": [],
   "source": [
    "#4.Write a Python program to read first n lines of a file.\n",
    "file1.seek(0)\n",
    "f1 = file1.readlines(1)\n",
    "f1"
   ]
  },
  {
   "cell_type": "code",
   "execution_count": null,
   "id": "c02bd872",
   "metadata": {},
   "outputs": [],
   "source": [
    "#5.Write a Python program to read last n lines of a file.\n",
    "file1 = open('new.txt','r')\n",
    "f1 = file1.readlines()\n",
    "for i in f1[-1]:\n",
    "    print(i, end='')"
   ]
  },
  {
   "cell_type": "code",
   "execution_count": null,
   "id": "ce0c9ed3",
   "metadata": {},
   "outputs": [],
   "source": [
    "#6.Write a Python program to read a file line by line and store it into a list\n",
    "file1 = open('new.txt','r')\n",
    "file1.readlines()"
   ]
  },
  {
   "cell_type": "code",
   "execution_count": null,
   "id": "0b01d330",
   "metadata": {},
   "outputs": [],
   "source": [
    "#7.Write a Python program to read a file line by line store it into a variable.\n",
    "file1 = open('new.txt','r')\n",
    "f1 = file1.readlines()\n",
    "print(f1)"
   ]
  },
  {
   "cell_type": "code",
   "execution_count": 1,
   "id": "a8ca0d02",
   "metadata": {},
   "outputs": [
    {
     "name": "stdout",
     "output_type": "stream",
     "text": [
      "rjqwertyuioasdfghjk\n"
     ]
    }
   ],
   "source": [
    "#8.Write a python program to find the longest words.\n",
    "f1 = ['hi','vishwa','rjqwertyuioasdfghjk','z','python']\n",
    "d1 = {}\n",
    "for key in f1:\n",
    "    d1.setdefault(key,len(key))\n",
    "l = sorted(d1,key=len,reverse = True)\n",
    "print(l[0])\n",
    "# print(d1)\n",
    "# print(d1.items())\n",
    "# long = sorted(d1.items(),key = lambda x:x[1])\n",
    "# print(long)\n",
    "# print(long[-1][0])\n",
    "# # print(long[0])\n",
    "    \n",
    "\n",
    "\n",
    "\n"
   ]
  },
  {
   "cell_type": "code",
   "execution_count": 7,
   "id": "380d0cc8",
   "metadata": {},
   "outputs": [
    {
     "name": "stdout",
     "output_type": "stream",
     "text": [
      "hiii\n",
      "I am vishwa\n",
      "I am learning Python\n",
      "I want to become  software developer\n",
      "\n",
      "this is append modethis is append mode\n",
      "['hiii', 'I', 'am', 'vishwa', 'I', 'am', 'learning', 'Python', 'I', 'want', 'to', 'become', 'software', 'developer', 'this', 'is', 'append', 'modethis', 'is', 'append', 'mode']\n",
      "hiii = 1 , I = 3 , am = 2 , vishwa = 1 , I = 3 , am = 2 , learning = 1 , Python = 1 , I = 3 , want = 1 , to = 1 , become = 1 , software = 1 , developer = 1 , this = 1 , is = 2 , append = 2 , modethis = 1 , is = 2 , append = 2 , mode = 1 , "
     ]
    }
   ],
   "source": [
    "#(10)Write a Python program to count the frequency of words in a file\n",
    "f1=open('new.txt','r')\n",
    "f2=f1.read()\n",
    "str1=str(f2)\n",
    "print(f2)\n",
    "l1=str1.split()\n",
    "print(l1)\n",
    "for i in l1:\n",
    "    if i in l1:\n",
    "        pass\n",
    "    else:\n",
    "        temp+=i\n",
    "    print(i,'=',l1.count(i),end=' , ')"
   ]
  },
  {
   "cell_type": "code",
   "execution_count": 3,
   "id": "e85941b2",
   "metadata": {},
   "outputs": [
    {
     "name": "stdout",
     "output_type": "stream",
     "text": [
      "6\n"
     ]
    }
   ],
   "source": [
    "#9.Write a Python program to count the number of lines in a text file.\n",
    "f1=open('new.txt','r')\n",
    "var1=len(f1.readlines())\n",
    "print(var1)\n"
   ]
  },
  {
   "cell_type": "code",
   "execution_count": 12,
   "id": "d2875778",
   "metadata": {},
   "outputs": [
    {
     "name": "stdout",
     "output_type": "stream",
     "text": [
      "hiii\n",
      "I am vishwa\n",
      "I am learning Python\n",
      "I want to become  software developer\n",
      "\n",
      "this is append modethis is append mode[1,7,9,8,4,6]\n"
     ]
    }
   ],
   "source": [
    "#(11) Write a Python program to write a list to a file\n",
    "# file1 = open('new.txt','a')\n",
    "# file1.write('[1,7,9,8,4,6]')\n",
    "# print(file1)\n",
    "# f1.close()\n",
    "file1 = open('new.txt','r')\n",
    "print(file1.read())"
   ]
  },
  {
   "cell_type": "code",
   "execution_count": 14,
   "id": "7e56ff7e",
   "metadata": {},
   "outputs": [
    {
     "name": "stdout",
     "output_type": "stream",
     "text": [
      "['hiii\\n', 'I am vishwa\\n', 'I am learning Python\\n', 'I want to become  software developer\\n', '\\n', 'this is append modethis is append mode[1,7,9,8,4,6]']\n",
      "hiii\n",
      "I am vishwa\n",
      "I am learning Python\n",
      "I want to become  software developer\n",
      "\n",
      "this is append modethis is append mode[1,7,9,8,4,6]\n"
     ]
    }
   ],
   "source": [
    "#(12)Write a Python program to copy the contents of a file to another file.\n",
    "file1 = open('new.txt','r')\n",
    "old = file1.readlines()\n",
    "print(old)\n",
    "f1.close()\n",
    "file2 = open('new2.txt','w')\n",
    "file2.write(file1.read())\n",
    "f2 = open('new.txt','r')\n",
    "print(f2.read())\n",
    "f2.close()\n"
   ]
  },
  {
   "cell_type": "code",
   "execution_count": null,
   "id": "292093ba",
   "metadata": {},
   "outputs": [],
   "source": [
    "# (13) Explain Exception handling? What is an Error in Python?\n",
    "# when we write a code we know/thought where is the error occers so\n",
    "# we use exception handling(try & except)\\n\",\n",
    "# to resolve the error without stoping compiler,because if error on first line then code stops on \\n\",\n",
    "# first line and code excution break.\\n\",\n",
    "# errors apart from SyntexError are including exception handling.\\n\",\n",
    "# major types of error:-\\n\",\n",
    "#   1 NameError\\n\",\n",
    "#   2 TypeError\\n\",\n",
    "#   3 ValueError\\n\",\n",
    "#   4 IndexError\\n\",\n",
    "#   5 KeyError\\n\",\n",
    "#   6 ZeroDivisionError\\"
   ]
  },
  {
   "cell_type": "code",
   "execution_count": null,
   "id": "b7ee324b",
   "metadata": {},
   "outputs": [],
   "source": [
    "#(14)How many except statements can a try-except block have? Name Some built-in exception classes:\n",
    "#try and except have multiple block in code just we use one try boc then except boc\n",
    "#  1 NameError\n",
    "#    2 TypeError\n",
    "#    3 ValueError\n",
    "#    4 IndexError\n",
    "#    5 KeyError\n",
    "#    6 ZeroDivisionError\n",
    "# if we dont know the error then we use except block for rest of errors"
   ]
  },
  {
   "cell_type": "code",
   "execution_count": 15,
   "id": "b12898e0",
   "metadata": {},
   "outputs": [],
   "source": [
    "#(15) When will the else part of try-except-else be executed?\n",
    "# the else part is excuted when no exception occers"
   ]
  },
  {
   "cell_type": "code",
   "execution_count": null,
   "id": "cff8b04c",
   "metadata": {},
   "outputs": [],
   "source": [
    "#(16) Can one block of except statements handle multiple exception?\n",
    "#yes.With the use of expert block"
   ]
  },
  {
   "cell_type": "code",
   "execution_count": 16,
   "id": "43ef4115",
   "metadata": {},
   "outputs": [],
   "source": [
    "#(17)When is the finally block executed\n",
    "#it will excute always/everytime with or without exception raised and we use it foe utility task"
   ]
  },
  {
   "cell_type": "code",
   "execution_count": 19,
   "id": "14b80b39",
   "metadata": {},
   "outputs": [
    {
     "data": {
      "text/plain": [
       "False"
      ]
     },
     "execution_count": 19,
     "metadata": {},
     "output_type": "execute_result"
    }
   ],
   "source": [
    "#(18) What happens when „1‟== 1 is executed?\n",
    "\"1\"==1"
   ]
  },
  {
   "cell_type": "code",
   "execution_count": 20,
   "id": "d0612688",
   "metadata": {},
   "outputs": [
    {
     "name": "stdout",
     "output_type": "stream",
     "text": [
      "5\n",
      "ad int\n",
      "it is final\n"
     ]
    }
   ],
   "source": [
    "#(19) How Do You Handle Exceptions With Try/Except/Finally In Python? Explain with coding snippets.\n",
    "try:\n",
    "    n = input()\n",
    "    print(n/5)\n",
    "except:\n",
    "    print('add int')\n",
    "finally:\n",
    "    print('it is final')"
   ]
  },
  {
   "cell_type": "code",
   "execution_count": 24,
   "id": "ec80c88e",
   "metadata": {},
   "outputs": [
    {
     "name": "stdout",
     "output_type": "stream",
     "text": [
      "4\n"
     ]
    },
    {
     "ename": "OddError",
     "evalue": "enter odd number",
     "output_type": "error",
     "traceback": [
      "\u001b[1;31m---------------------------------------------------------------------------\u001b[0m",
      "\u001b[1;31mOddError\u001b[0m                                  Traceback (most recent call last)",
      "Input \u001b[1;32mIn [24]\u001b[0m, in \u001b[0;36m<cell line: 5>\u001b[1;34m()\u001b[0m\n\u001b[0;32m      4\u001b[0m n \u001b[38;5;241m=\u001b[39m \u001b[38;5;28mint\u001b[39m(\u001b[38;5;28minput\u001b[39m())\n\u001b[0;32m      5\u001b[0m \u001b[38;5;28;01mif\u001b[39;00m n \u001b[38;5;241m%\u001b[39m \u001b[38;5;241m2\u001b[39m \u001b[38;5;241m==\u001b[39m \u001b[38;5;241m0\u001b[39m:\n\u001b[1;32m----> 6\u001b[0m     \u001b[38;5;28;01mraise\u001b[39;00m OddError(\u001b[38;5;124m'\u001b[39m\u001b[38;5;124menter odd number\u001b[39m\u001b[38;5;124m'\u001b[39m)\n\u001b[0;32m      7\u001b[0m \u001b[38;5;28;01melse\u001b[39;00m:\n\u001b[0;32m      8\u001b[0m     \u001b[38;5;28mprint\u001b[39m(\u001b[38;5;124m'\u001b[39m\u001b[38;5;124modd\u001b[39m\u001b[38;5;124m'\u001b[39m)\n",
      "\u001b[1;31mOddError\u001b[0m: enter odd number"
     ]
    }
   ],
   "source": [
    "#(20) Write python program that user to enter only odd numbers, else will raise an exception\n",
    "class OddError(Exception):\n",
    "    pass\n",
    "n = int(input())\n",
    "if n % 2 == 0:\n",
    "    raise OddError('enter odd number')\n",
    "else:\n",
    "    print('odd')"
   ]
  },
  {
   "cell_type": "code",
   "execution_count": null,
   "id": "64740ba5",
   "metadata": {},
   "outputs": [],
   "source": [
    "#(21)What are oops concepts? Is multiple inheritance supported in java\n",
    "# opps means object oriented programs. which includes class,method,objects=behaviour+attributes\n",
    "#     1 class & object\n",
    "#     2 Inheritence\n",
    "#     3 polymorphism\n",
    "#     4 encapsulation\n",
    "#     5 abstraction\n",
    "\n",
    "# there are 5 types of inheritence:\\n\",\n",
    "#     1 single\n",
    "#     2 multiple\n",
    "#     3 multilevel\n",
    "#     4 hirachical\n",
    "#     5 hybrid\""
   ]
  },
  {
   "cell_type": "code",
   "execution_count": null,
   "id": "2306726f",
   "metadata": {},
   "outputs": [],
   "source": [
    "#(22) How to Define a Class in Python? What Is Self? Give An Example Of A Python Class\n",
    "\n",
    "# write class and class name then semicolon to define class \\n\",\n",
    "# self points the current instance of the class \\n\",\n",
    "# self uses to access variables which belongs to class.\n",
    "\n",
    "class A:\n",
    "    def __init__(self):\n",
    "        pass\n",
    "vishwa = A()"
   ]
  },
  {
   "cell_type": "code",
   "execution_count": 27,
   "id": "09470eaa",
   "metadata": {},
   "outputs": [
    {
     "name": "stdout",
     "output_type": "stream",
     "text": [
      "40\n"
     ]
    }
   ],
   "source": [
    "#(23)Write a Python class named Rectangle constructed by a length and width andut\n",
    "class Rectangle:\n",
    "    def __init__(self,length,width):\n",
    "        self.length = length\n",
    "        self.width = width\n",
    "    def area_of_rectangle(self):\n",
    "        area = self.length*self.width\n",
    "        print(area)\n",
    "a = Rectangle(5,8)\n",
    "a.area_of_rectangle()"
   ]
  },
  {
   "cell_type": "code",
   "execution_count": 30,
   "id": "7ffa85f4",
   "metadata": {},
   "outputs": [
    {
     "name": "stdout",
     "output_type": "stream",
     "text": [
      "area= 78.5\n",
      "perimeter 31.400000000000002\n"
     ]
    }
   ],
   "source": [
    "#(24)Write a Python class named Circle constructed by a radius and two methods\n",
    "pi = 3.14\n",
    "class Circle:\n",
    "    def __init__(self,radius):\n",
    "        self.radius = radius\n",
    "    def area_of_circle(self,radius):\n",
    "        area = self.radius*pi*self.radius\n",
    "        print('area=',area)\n",
    "    def perimeter(self,radius):\n",
    "        perimeter = 2*pi*radius\n",
    "        print('perimeter',perimeter)\n",
    "a = Circle(5)\n",
    "a.area_of_circle(5)\n",
    "a.perimeter(5)"
   ]
  }
 ],
 "metadata": {
  "kernelspec": {
   "display_name": "Python 3 (ipykernel)",
   "language": "python",
   "name": "python3"
  },
  "language_info": {
   "codemirror_mode": {
    "name": "ipython",
    "version": 3
   },
   "file_extension": ".py",
   "mimetype": "text/x-python",
   "name": "python",
   "nbconvert_exporter": "python",
   "pygments_lexer": "ipython3",
   "version": "3.9.12"
  }
 },
 "nbformat": 4,
 "nbformat_minor": 5
}
