{
 "cells": [
  {
   "cell_type": "code",
   "execution_count": 30,
   "id": "e7c617ec",
   "metadata": {},
   "outputs": [
    {
     "name": "stdout",
     "output_type": "stream",
     "text": [
      "8\n",
      "even\n"
     ]
    }
   ],
   "source": [
    "#7\n",
    "a = int(input())\n",
    "if a%2 == 0:\n",
    "    print('even')\n",
    "else:\n",
    "    print('odd')\n",
    "    "
   ]
  },
  {
   "cell_type": "code",
   "execution_count": null,
   "id": "229a6f03",
   "metadata": {},
   "outputs": [],
   "source": [
    "#1\n",
    "var1=int(input(\"input number=\"))\n",
    "if var1>0:  \n",
    "    print('positive')\n",
    "elif var1==0:\n",
    "    print('zero')\n",
    "else:\n",
    "    print('negative')"
   ]
  },
  {
   "cell_type": "code",
   "execution_count": null,
   "id": "3cf07b02",
   "metadata": {},
   "outputs": [],
   "source": [
    "#8\n",
    "n = (input(\"\"))\n",
    "if (n == 'a' or n == 'e' or n == 'i' or n == 'o' or n == 'u'):\n",
    "    print('vowel')\n",
    "else:\n",
    "    print('consonant')"
   ]
  },
  {
   "cell_type": "code",
   "execution_count": null,
   "id": "4b787736",
   "metadata": {},
   "outputs": [],
   "source": [
    "#9\n",
    "a = int(input(\"enter a=\"))\n",
    "b = int(input(\"enter b=\"))\n",
    "c = int(input(\"enter c=\"))\n",
    "if a == b or b == c or c == a:\n",
    "    print(\"sum will be 0\")\n",
    "else:\n",
    "    print(a+b+c)\n",
    "\n",
    "    "
   ]
  },
  {
   "cell_type": "code",
   "execution_count": null,
   "id": "141177e2",
   "metadata": {},
   "outputs": [],
   "source": [
    "#10\n",
    "a = int(input(\"enter a=\"))\n",
    "b = int(input(\"enter b=\"))\n",
    "if a == b or (a + b == 5) or (a - b == 5):\n",
    "    print('true')\n",
    "else:\n",
    "    print('false')\n"
   ]
  },
  {
   "cell_type": "code",
   "execution_count": 29,
   "id": "c3b8fc3f",
   "metadata": {},
   "outputs": [
    {
     "name": "stdout",
     "output_type": "stream",
     "text": [
      "5\n",
      "0\n",
      "1\n",
      "3\n",
      "6\n",
      "10\n",
      "15\n"
     ]
    }
   ],
   "source": [
    "#11\n",
    "n = int(input())\n",
    "sum = 0\n",
    "for i in range(0,n+1):\n",
    "    sum = sum + i\n",
    "    print(sum)\n",
    "\n",
    "    \n",
    "        "
   ]
  },
  {
   "cell_type": "code",
   "execution_count": null,
   "id": "e3f58972",
   "metadata": {},
   "outputs": [],
   "source": [
    "#2\n",
    "n = int(input())\n",
    "fac = 1\n",
    "if n>0:\n",
    "    for n in range(1,n+1):\n",
    "        fac = fac*n\n",
    "        print(n,fac, end='')\n",
    "else:\n",
    "    print('number is negative')\n",
    "        "
   ]
  },
  {
   "cell_type": "code",
   "execution_count": null,
   "id": "76cd60f9",
   "metadata": {},
   "outputs": [],
   "source": [
    "#6 without temp\n",
    "a = int(input())\n",
    "b = int(input())\n",
    "a,b = b,a\n",
    "print(a,b)"
   ]
  },
  {
   "cell_type": "code",
   "execution_count": null,
   "id": "f19d0f26",
   "metadata": {},
   "outputs": [],
   "source": [
    "#3\n",
    "n = int(input())\n",
    "sum = 0\n",
    "if n>0:\n",
    "    for n in range(1,n+1):\n",
    "        sum = sum+n\n",
    "        print(sum, end=' ')\n",
    "else:\n",
    "    print('enter valid number')"
   ]
  },
  {
   "cell_type": "code",
   "execution_count": null,
   "id": "a19db519",
   "metadata": {},
   "outputs": [],
   "source": [
    "#12\n",
    "n = input()\n",
    "len(n)"
   ]
  },
  {
   "cell_type": "code",
   "execution_count": 12,
   "id": "3f600df7",
   "metadata": {},
   "outputs": [
    {
     "data": {
      "text/plain": [
       "2"
      ]
     },
     "execution_count": 12,
     "metadata": {},
     "output_type": "execute_result"
    }
   ],
   "source": [
    "#13\n",
    "a = 'apple is a fruit'\n",
    "b = a[0:12:1]\n",
    "b.count('a')"
   ]
  },
  {
   "cell_type": "code",
   "execution_count": 32,
   "id": "3b91e89b",
   "metadata": {},
   "outputs": [
    {
     "name": "stdout",
     "output_type": "stream",
     "text": [
      "10\n",
      "                        *                         \n",
      "                       * *                        \n",
      "                      * A *                       \n",
      "                     * B C *                      \n",
      "                    * D E F *                     \n",
      "                   * G H I J *                    \n",
      "                  * K L M N O *                   \n",
      "                 * P Q R S T U *                  \n",
      "                * V W X Y Z A B *                 \n",
      "               * C D E F G H I J *                \n",
      "                * K L M N O P Q *                 \n",
      "                 * R S T U V W *                  \n",
      "                  * X Y Z A B *                   \n",
      "                   * C D E F *                    \n",
      "                    * G H I *                     \n",
      "                     * J K *                      \n",
      "                      * L *                       \n",
      "                       * *                        \n",
      "                        *                         \n"
     ]
    }
   ],
   "source": [
    "#extra\n",
    "a = int(input())\n",
    "alphabets = 'ABCDEFGHIJKLMNOPQRSTUVWXYZ'\n",
    "I = 0\n",
    "for i in range(1,a+1):\n",
    "    str1 = ''\n",
    "    for h in range(i):\n",
    "        if i>=3:\n",
    "            if h == 0 or h == i-1:\n",
    "                str1 += '* '\n",
    "            else:\n",
    "                str1 += alphabets[I] + ' '\n",
    "                if I == 25:\n",
    "                    I = 0\n",
    "                else:\n",
    "                    I += 1\n",
    "        else:\n",
    "            str1 += '* '\n",
    "    print((str1.strip()).center(a*5))\n",
    "for i in range(a-1,0,-1):\n",
    "    str1 = ''\n",
    "    for h in range(i):\n",
    "        if i>=3:\n",
    "            if h == 0 or h == i-1:\n",
    "                str1 += '* '\n",
    "            else:\n",
    "                str1 += alphabets[I]+ ' '\n",
    "                if I == 25:\n",
    "                    I = 0\n",
    "                else:\n",
    "                    I += 1\n",
    "        else:\n",
    "            str1 += '* '\n",
    "    print((str1.strip()).center(a*5))\n",
    "    "
   ]
  },
  {
   "cell_type": "code",
   "execution_count": 1,
   "id": "b6794688",
   "metadata": {},
   "outputs": [
    {
     "name": "stdout",
     "output_type": "stream",
     "text": [
      "enter string=Raj is not poor in maths \n",
      "Raj is good in maths \n"
     ]
    }
   ],
   "source": [
    "#19\n",
    "str1 = input(\"enter string=\")\n",
    "for i in range(str1.count('not')):\n",
    "    if str1.find('not') < str1.find('poor'):\n",
    "        start_point = str1.find('not')\n",
    "        end_point = str1.find('poor')+4\n",
    "        to_be_replace = str1[start_point : end_point]\n",
    "        replacement ='good'\n",
    "        str1 = str1.replace(to_be_replace,replacement)\n",
    "    else:\n",
    "        str1 = str1\n",
    "print(str1)"
   ]
  },
  {
   "cell_type": "code",
   "execution_count": 8,
   "id": "b1c2c7f4",
   "metadata": {},
   "outputs": [
    {
     "name": "stdout",
     "output_type": "stream",
     "text": [
      "enter string=eat\n",
      "eating\n"
     ]
    }
   ],
   "source": [
    "#18\n",
    "n = input('enter string=')\n",
    "a = 'ly'\n",
    "b = 'ing'\n",
    "if len(n) >= 3:\n",
    "    if n.endswith('ing'):\n",
    "        print(n+a)\n",
    "    else:\n",
    "        print(n+b)\n",
    "else:\n",
    "    print(n)\n",
    "        "
   ]
  },
  {
   "cell_type": "code",
   "execution_count": 9,
   "id": "f06c2f8d",
   "metadata": {},
   "outputs": [
    {
     "name": "stdout",
     "output_type": "stream",
     "text": [
      "enter stringw3resource\n",
      "w3ce\n"
     ]
    }
   ],
   "source": [
    "#22\n",
    "str1 = input('enter string')\n",
    "if len(str1) < 2:\n",
    "    print('empty string')\n",
    "else:\n",
    "    final = str1[:2] + str1[-2:]\n",
    "    print(final)"
   ]
  },
  {
   "cell_type": "code",
   "execution_count": 24,
   "id": "a2faad0d",
   "metadata": {},
   "outputs": [
    {
     "name": "stdout",
     "output_type": "stream",
     "text": [
      "enter string 1 =apple\n",
      "enter string 2 =mango\n",
      "maple apngo\n"
     ]
    }
   ],
   "source": [
    "#17\n",
    "str1 = input('enter string 1 =')\n",
    "str2 = input('enter string 2 =')\n",
    "scl1 = str1[0:2]\n",
    "scl2 = str2[0:2]\n",
    "str1 = str1.replace(scl1,scl2)\n",
    "str2 = str2.replace(scl2,scl1)\n",
    "str3 = str1 + ' ' + str2\n",
    "print(str3)"
   ]
  },
  {
   "cell_type": "code",
   "execution_count": null,
   "id": "33c8425c",
   "metadata": {},
   "outputs": [],
   "source": [
    "#4.How memory is managed in Python?\n",
    "#Memory management in Python involves a private heap containing all Python objects and data structures. The management of this private heap is ensured internally by the Python memory manager."
   ]
  },
  {
   "cell_type": "code",
   "execution_count": null,
   "id": "2bfae8d4",
   "metadata": {},
   "outputs": [],
   "source": [
    "#5.What is the purpose continue statement in python?\n",
    "#The continue statement in Python returns the control to the beginning of the while loop. The continue statement rejects all the remaining statements in the current iteration of the loop and moves the control back to the top of the loop."
   ]
  },
  {
   "cell_type": "code",
   "execution_count": null,
   "id": "4461ff85",
   "metadata": {},
   "outputs": [],
   "source": [
    "#14.What are negative indexes and why are they used?\n",
    "#The negative index is used to remove any new-line spaces from the string and allow the string to except the last character that is given as S[:-1]. The negative index is also used to show the index to represent the string in correct order."
   ]
  },
  {
   "cell_type": "code",
   "execution_count": 32,
   "id": "85c4d249",
   "metadata": {},
   "outputs": [
    {
     "data": {
      "text/plain": [
       "2"
      ]
     },
     "execution_count": 32,
     "metadata": {},
     "output_type": "execute_result"
    }
   ],
   "source": [
    "#15\n",
    "a = 'he is a student'\n",
    "b = a[0:15:1]\n",
    "b.count('e')"
   ]
  },
  {
   "cell_type": "code",
   "execution_count": 3,
   "id": "93379c42",
   "metadata": {},
   "outputs": [
    {
     "name": "stdout",
     "output_type": "stream",
     "text": [
      " mhfuh\n",
      "not empty\n"
     ]
    }
   ],
   "source": [
    "#module:3\n",
    "list1 = input()\n",
    "if list1 == '':\n",
    "    print('empty')\n",
    "else:\n",
    "    print('not empty')"
   ]
  },
  {
   "cell_type": "code",
   "execution_count": 3,
   "id": "21c6f26c",
   "metadata": {},
   "outputs": [
    {
     "name": "stdout",
     "output_type": "stream",
     "text": [
      "[1, 2, 6, 8, 42, 55, 78]\n",
      "2\n"
     ]
    }
   ],
   "source": [
    "list1 = [55,8,6,1,2,78,42]\n",
    "list1.sort()\n",
    "print(list1)\n",
    "print(list1[1])\n"
   ]
  },
  {
   "cell_type": "code",
   "execution_count": 1,
   "id": "91c09cf0",
   "metadata": {},
   "outputs": [
    {
     "name": "stdout",
     "output_type": "stream",
     "text": [
      "[1, 2, 5, 8, 9]\n"
     ]
    }
   ],
   "source": [
    "list1 = [2,5,9,8,5,1,2]\n",
    "s1 = set(list1)\n",
    "s1 = list(s1)\n",
    "print(s1)\n",
    "\n"
   ]
  },
  {
   "cell_type": "code",
   "execution_count": 6,
   "id": "f2542889",
   "metadata": {},
   "outputs": [
    {
     "name": "stdout",
     "output_type": "stream",
     "text": [
      "abcd\n"
     ]
    }
   ],
   "source": [
    "list1 = ['a', 'b', 'c', 'd']\n",
    "print(str1)\n"
   ]
  },
  {
   "cell_type": "code",
   "execution_count": 7,
   "id": "cd3a837a",
   "metadata": {},
   "outputs": [
    {
     "name": "stdout",
     "output_type": "stream",
     "text": [
      "unique value\n"
     ]
    }
   ],
   "source": [
    "list1 = [1,5,3,4,1,5]\n",
    "if list1.count(1) == 0:\n",
    "    print('unique value')\n",
    "else:\n",
    "    print('not uni')\n",
    "    "
   ]
  },
  {
   "cell_type": "code",
   "execution_count": 9,
   "id": "d4b3f8e1",
   "metadata": {},
   "outputs": [
    {
     "name": "stdout",
     "output_type": "stream",
     "text": [
      "not exist\n"
     ]
    }
   ],
   "source": [
    "list1 = [1,5,8,3,6,4]\n",
    "sub_list = [1,8,6]\n",
    "\n",
    "sub_idx = list1.index(sub_list[0])\n",
    "if list1[sub_idx : sub_idx + len(sub_list)] == sub_list:\n",
    "    print('It exist')\n",
    "else:\n",
    "    print('not exist')"
   ]
  },
  {
   "cell_type": "code",
   "execution_count": 3,
   "id": "9b3dd05b",
   "metadata": {},
   "outputs": [
    {
     "name": "stdout",
     "output_type": "stream",
     "text": [
      "(4, 4.5, 'Point', {5, 6, 7}, [7, 9, 2], {'Raj': 54}, (6, 7, 2))\n"
     ]
    }
   ],
   "source": [
    "t1 = (4,4.5,'Point',{5,7,6},[7,9,2],{'Raj':54},(6,7,2))\n",
    "print(t1)"
   ]
  },
  {
   "cell_type": "code",
   "execution_count": 5,
   "id": "a44b20e3",
   "metadata": {},
   "outputs": [
    {
     "name": "stdout",
     "output_type": "stream",
     "text": [
      "(1, 5, 9, 6, 3)\n",
      "<class 'str'>\n"
     ]
    }
   ],
   "source": [
    "t1 = (1,5,9,6,3)\n",
    "s1 = str(t1)\n",
    "print(s1)\n",
    "print(type(s1))"
   ]
  },
  {
   "cell_type": "code",
   "execution_count": 8,
   "id": "58206c94",
   "metadata": {},
   "outputs": [
    {
     "name": "stdout",
     "output_type": "stream",
     "text": [
      "does not exist\n"
     ]
    }
   ],
   "source": [
    "t1 = (1,5,9,6,3,1)\n",
    "if t1.count(7) >= 1:\n",
    "    print('element exist')\n",
    "else:\n",
    "    print('does not exist')"
   ]
  },
  {
   "cell_type": "code",
   "execution_count": 10,
   "id": "841c7948",
   "metadata": {},
   "outputs": [
    {
     "data": {
      "text/plain": [
       "25"
      ]
     },
     "execution_count": 10,
     "metadata": {},
     "output_type": "execute_result"
    }
   ],
   "source": [
    "list1 = [2, 33, 222, 14, 25]\n",
    "list1[-1]"
   ]
  },
  {
   "cell_type": "code",
   "execution_count": 13,
   "id": "ae5a8fb3",
   "metadata": {},
   "outputs": [
    {
     "name": "stdout",
     "output_type": "stream",
     "text": [
      "a= [4, 8, 6]\n",
      "b= [3, 1, 2, 7]\n"
     ]
    }
   ],
   "source": [
    "list1 = [4,8,6,3,1,2,7]\n",
    "a = list1[:3]\n",
    "b = list1[3:]\n",
    "print('a=',a)\n",
    "print('b=',b)"
   ]
  },
  {
   "cell_type": "code",
   "execution_count": 14,
   "id": "e916c847",
   "metadata": {},
   "outputs": [
    {
     "data": {
      "text/plain": [
       "5"
      ]
     },
     "execution_count": 14,
     "metadata": {},
     "output_type": "execute_result"
    }
   ],
   "source": [
    "t1 = (1,8,6,3,4)\n",
    "len(t1)"
   ]
  },
  {
   "cell_type": "code",
   "execution_count": 17,
   "id": "930e2e59",
   "metadata": {},
   "outputs": [
    {
     "name": "stdout",
     "output_type": "stream",
     "text": [
      "<class 'list'>\n",
      "<class 'tuple'>\n"
     ]
    }
   ],
   "source": [
    "l1 = [4,5,3,9,'Yash']\n",
    "t1 = tuple(l1)\n",
    "print(type(l1))\n",
    "print(type(t1))"
   ]
  },
  {
   "cell_type": "code",
   "execution_count": 20,
   "id": "c6f5dcf5",
   "metadata": {},
   "outputs": [
    {
     "name": "stdout",
     "output_type": "stream",
     "text": [
      "({1, 3, 5}, 'Raj', 7, 9, 1.5, 8, 1)\n"
     ]
    }
   ],
   "source": [
    "t1 = (1,8,1.5,9,7,'Raj',{1,5,3})\n",
    "s1 = t1[::-1]\n",
    "print(s1)"
   ]
  },
  {
   "cell_type": "code",
   "execution_count": 29,
   "id": "5d6f7717",
   "metadata": {},
   "outputs": [
    {
     "name": "stdout",
     "output_type": "stream",
     "text": [
      "['Yash']\n",
      "<class 'list'>\n"
     ]
    }
   ],
   "source": [
    "t1 = (4,5,3,9,'Yash')\n",
    "l1 = t1[-1:]\n",
    "s1 = list(l1)\n",
    "print(s1)\n",
    "print(type(s1))\n"
   ]
  },
  {
   "cell_type": "code",
   "execution_count": 6,
   "id": "4952aa91",
   "metadata": {},
   "outputs": [
    {
     "name": "stdout",
     "output_type": "stream",
     "text": [
      "2\n",
      "single value\n"
     ]
    }
   ],
   "source": [
    "t1 = (1,8,6,5,1,5)\n",
    "I = int(input())\n",
    "if t1.count(t1[I]) > 1:\n",
    "    print(\"repeated value\")\n",
    "else:\n",
    "    print(\"single value\")"
   ]
  },
  {
   "cell_type": "code",
   "execution_count": 15,
   "id": "c26b3188",
   "metadata": {},
   "outputs": [
    {
     "name": "stdout",
     "output_type": "stream",
     "text": [
      "(1, (), 9)\n"
     ]
    }
   ],
   "source": [
    "t1 = [(),(1,2,7),'ram']\n",
    "\n",
    "    s1.remove(())\n",
    "    print(t1)\n",
    "else:\n",
    "    print(t1)\n",
    "    "
   ]
  }
 ],
 "metadata": {
  "kernelspec": {
   "display_name": "Python 3 (ipykernel)",
   "language": "python",
   "name": "python3"
  },
  "language_info": {
   "codemirror_mode": {
    "name": "ipython",
    "version": 3
   },
   "file_extension": ".py",
   "mimetype": "text/x-python",
   "name": "python",
   "nbconvert_exporter": "python",
   "pygments_lexer": "ipython3",
   "version": "3.9.12"
  }
 },
 "nbformat": 4,
 "nbformat_minor": 5
}
