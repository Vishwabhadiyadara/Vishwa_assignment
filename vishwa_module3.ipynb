{
 "cells": [
  {
   "cell_type": "code",
   "execution_count": null,
   "id": "93379c42",
   "metadata": {},
   "outputs": [],
   "source": [
    "#module:3\n",
    "#(9)Write a Python program to check a list is empty or not\n",
    "list1 = input()\n",
    "if list1 == '':\n",
    "    print('empty')\n",
    "else:\n",
    "    print('not empty')"
   ]
  },
  {
   "cell_type": "code",
   "execution_count": 9,
   "id": "6603605c",
   "metadata": {},
   "outputs": [
    {
     "name": "stdout",
     "output_type": "stream",
     "text": [
      "[1, 2, 3, 4]\n"
     ]
    }
   ],
   "source": [
    "#(2)How will you remove last object from a list?\n",
    "list1=[1,2,3,4,5]\n",
    "list1.pop()\n",
    "print(list1)"
   ]
  },
  {
   "cell_type": "code",
   "execution_count": 10,
   "id": "53f8e43a",
   "metadata": {},
   "outputs": [
    {
     "name": "stdout",
     "output_type": "stream",
     "text": [
      "[1, 2, 3, 4, 5, 6, 7, 8, 9, 'vishwa']\n",
      "[9, 8, 7, 6, 5, 4, 3, 2, 1, 'v', 'i', 's', 'h', 'w', 'a']\n"
     ]
    }
   ],
   "source": [
    "#(4) Differentiate between append () and extend () methods?\n",
    "list1=[1,2,3,4,5,6,]\n",
    "list2=[9,8,7,4,3,2,1]\n",
    "\n",
    "list1.append('vishwa') \n",
    "print(list1)\n",
    "\n",
    "list2.extend('vishwa') \n",
    "print(list2)"
   ]
  },
  {
   "cell_type": "code",
   "execution_count": null,
   "id": "dd491eef",
   "metadata": {},
   "outputs": [],
   "source": [
    "#(5) Write a Python function to get the largest number, smallest num and sum of all from a list.\n",
    "\n",
    "list1 = [8,7,44,56,1,2,45,63,10,99]\n",
    "def number(n):\n",
    "    for i in list1:\n",
    "        l1 = list1.sort()\n",
    "        \n",
    "    "
   ]
  },
  {
   "cell_type": "code",
   "execution_count": null,
   "id": "91c09cf0",
   "metadata": {},
   "outputs": [],
   "source": [
    "#(8) Write a Python program to remove duplicates from a list.\n",
    "list1 = [2,5,9,8,5,1,2]\n",
    "s1 = set(list1)\n",
    "s1 = list(s1)\n",
    "print(s1)\n",
    "\n"
   ]
  },
  {
   "cell_type": "code",
   "execution_count": null,
   "id": "f2542889",
   "metadata": {},
   "outputs": [],
   "source": [
    "#(13) Write a Python program to convert a list of characters into a string\n",
    "list1 = [1, 'b', 'c', 'd']\n",
    "str1 = str(list1)\n",
    "print(str1)\n",
    "type(str1)\n"
   ]
  },
  {
   "cell_type": "code",
   "execution_count": null,
   "id": "cd3a837a",
   "metadata": {},
   "outputs": [],
   "source": [
    "#(16) Write a Python program to get unique values from a list\n",
    "list1 = [1,5,3,4,1,5]\n",
    "if list1.count(1) == 0:\n",
    "    print('unique value')\n",
    "else:\n",
    "    print('not uni')\n",
    "    "
   ]
  },
  {
   "cell_type": "code",
   "execution_count": null,
   "id": "dc362e85",
   "metadata": {},
   "outputs": [],
   "source": [
    "#(18) Write a Python program to split a list into different variables.\n",
    "list1=[[1,2,3,4,5],55,(5,30,698,789),{52,369,147},'boa vs python',{'boa':'python','ironman':3000}]\n",
    "len(list1)\n",
    "l1,l2,l3,l4,l5,l6=list1\n",
    "print(l5)\n",
    "print(l3)"
   ]
  },
  {
   "cell_type": "code",
   "execution_count": null,
   "id": "c7c0dd33",
   "metadata": {},
   "outputs": [],
   "source": [
    "# (19) What is tuple? Difference between list and tuple.\n",
    "#tuple is one of the collection type datatype. \n",
    "#list is mutable and tuple is immutable these is major diffrence."
   ]
  },
  {
   "cell_type": "code",
   "execution_count": 8,
   "id": "d4b3f8e1",
   "metadata": {},
   "outputs": [
    {
     "name": "stdout",
     "output_type": "stream",
     "text": [
      "not exist\n"
     ]
    }
   ],
   "source": [
    "#(17) Write a Python program to check whether a list contains a sub list\n",
    "list1 = [1,5,8,3,6,4]\n",
    "sub_list = [1,8,6]\n",
    "\n",
    "sub_idx = list1.index(sub_list[0])\n",
    "if list1[sub_idx : sub_idx + len(sub_list)] == sub_list:\n",
    "    print('It exist')\n",
    "else:\n",
    "    print('not exist')"
   ]
  },
  {
   "cell_type": "code",
   "execution_count": null,
   "id": "9b3dd05b",
   "metadata": {},
   "outputs": [],
   "source": [
    "#(20) Write a Python program to create a tuple with different data types.\n",
    "t1 = (4,4.5,'Point',{5,7,6},[7,9,2],{'Raj':54},(6,7,2))\n",
    "print(t1)"
   ]
  },
  {
   "cell_type": "code",
   "execution_count": null,
   "id": "84aebdff",
   "metadata": {},
   "outputs": [],
   "source": [
    "#(21) Write a Python program to create a tuple with numbers.\n",
    "t1=10,12,15,820,256,325\n",
    "print(t1)\n",
    "print(type(t1))"
   ]
  },
  {
   "cell_type": "code",
   "execution_count": null,
   "id": "c6380380",
   "metadata": {},
   "outputs": [],
   "source": [
    "#(22) Write a Python program to convert a tuple to a string.\n",
    "list1=[1,2,3,3.3,65,'python',[5,4,3,22],{589,145,2},{'hello':56,'world war z':'brad pit'}]\n",
    "t1=tuple(list1)\n",
    "str1=str(t1)\n",
    "print(str1)\n",
    "print(type(str1))"
   ]
  },
  {
   "cell_type": "code",
   "execution_count": null,
   "id": "a44b20e3",
   "metadata": {},
   "outputs": [],
   "source": [
    "#(13) Write a Python program to convert a list of characters into a string\n",
    "t1 = (1,5,9,6,3)\n",
    "s1 = str(t1)\n",
    "print(s1)\n",
    "print(type(s1))"
   ]
  },
  {
   "cell_type": "code",
   "execution_count": 5,
   "id": "58206c94",
   "metadata": {},
   "outputs": [
    {
     "name": "stdout",
     "output_type": "stream",
     "text": [
      "does not exist\n"
     ]
    }
   ],
   "source": [
    "# (23) Write a Python program to check whether an element exists within a tuple.\n",
    "t1 = (1,5,9,6,3,1)\n",
    "if t1.count(7) >= 1:\n",
    "    print('element exist')\n",
    "else:\n",
    "    print('does not exist')"
   ]
  },
  {
   "cell_type": "code",
   "execution_count": 1,
   "id": "841c7948",
   "metadata": {},
   "outputs": [
    {
     "data": {
      "text/plain": [
       "25"
      ]
     },
     "execution_count": 1,
     "metadata": {},
     "output_type": "execute_result"
    }
   ],
   "source": [
    "#(3) Suppose list1 is [2, 33, 222, 14, and 25], what is list1 [-1]?\n",
    "list1 = [2, 33, 222, 14, 25]\n",
    "list1[-1]"
   ]
  },
  {
   "cell_type": "code",
   "execution_count": 8,
   "id": "aca7fbbe",
   "metadata": {},
   "outputs": [
    {
     "name": "stdout",
     "output_type": "stream",
     "text": [
      "[5, 4, 3, 2, 1]\n"
     ]
    }
   ],
   "source": [
    "#(1) What is List? How will you reverse a list?\n",
    "list1=[1,2,3,4,5]\n",
    "l1 = list1[::-1]\n",
    "print(l1)"
   ]
  },
  {
   "cell_type": "code",
   "execution_count": null,
   "id": "e916c847",
   "metadata": {},
   "outputs": [],
   "source": [
    "# (24) Write a Python program to find the length of a tuple.\n",
    "t1 = (1,8,6,3,4)\n",
    "len(t1)"
   ]
  },
  {
   "cell_type": "code",
   "execution_count": null,
   "id": "930e2e59",
   "metadata": {},
   "outputs": [],
   "source": [
    "# (25) Write a Python program to convert a list to a tuple.\n",
    "l1 = [4,5,3,9,'Yash']\n",
    "t1 = tuple(l1)\n",
    "print(type(l1))\n",
    "print(type(t1))"
   ]
  },
  {
   "cell_type": "code",
   "execution_count": null,
   "id": "c6f5dcf5",
   "metadata": {},
   "outputs": [],
   "source": [
    "#(26) Write a Python program to reverse a tuple.\n",
    "t1 = (1,8,1.5,9,7,'Raj',{1,5,3})\n",
    "s1 = t1[::-1]\n",
    "print(s1)"
   ]
  },
  {
   "cell_type": "code",
   "execution_count": null,
   "id": "f23c9e36",
   "metadata": {},
   "outputs": [],
   "source": [
    "# (27) Write a Python program to replace last value of tuples in a list.\n",
    "\n",
    "tuple1=(1,2,3,4,5)\n",
    "list1=list(tuple1)\n",
    "t1='python'\n",
    "list1.pop()\n",
    "list1.append(t1)\n",
    "print(list1)"
   ]
  },
  {
   "cell_type": "code",
   "execution_count": null,
   "id": "5d6f7717",
   "metadata": {},
   "outputs": [],
   "source": [
    "t1 = (4,5,3,9,'Yash')\n",
    "l1 = t1[-1:]\n",
    "s1 = list(l1)\n",
    "print(s1)\n",
    "print(type(s1))\n"
   ]
  },
  {
   "cell_type": "code",
   "execution_count": 6,
   "id": "4952aa91",
   "metadata": {},
   "outputs": [
    {
     "name": "stdout",
     "output_type": "stream",
     "text": [
      "5\n",
      "repeated value\n"
     ]
    }
   ],
   "source": [
    "# (28) Write a Python program to find the repeated items of a tuple.\n",
    "t1 = (1,8,6,5,1,5)\n",
    "I = int(input())\n",
    "if t1.count(t1[I]) > 1:\n",
    "    print(\"repeated value\")\n",
    "else:\n",
    "    print(\"single value\")"
   ]
  },
  {
   "cell_type": "code",
   "execution_count": 7,
   "id": "c26b3188",
   "metadata": {
    "scrolled": true
   },
   "outputs": [
    {
     "name": "stdout",
     "output_type": "stream",
     "text": [
      "[1, 2, 3, 3.3, (5, 6, 9, 8, 7), {5, 6, 7, 8, 9}, {52: 63, 'python': 66}]\n"
     ]
    }
   ],
   "source": [
    "# # (29) Write a Python program to remove an empty tuple(s) from a list of tuples.\n",
    "tuple1=(1,2,(),3,3.3,(5,6,9,8,7),(),{5,6,9,8,7},(),{52:63,'python':66})\n",
    "val1=[t for t in tuple1 if t]\n",
    "print(val1)\n",
    "    "
   ]
  },
  {
   "cell_type": "code",
   "execution_count": 2,
   "id": "b262ef77",
   "metadata": {},
   "outputs": [
    {
     "name": "stdout",
     "output_type": "stream",
     "text": [
      "[0, 1, 2, 5, 6, 7, 8, 9, 10, 19, 20, 66, 80]\n",
      "1 is second smallest number\n",
      "66 is second largest  number\n"
     ]
    }
   ],
   "source": [
    "#(15)Write a Python program to find the second smallest & second largest number in a list.\n",
    "list1=[1,2,5,6,6,6,6,2,2,2,2,1,1,10,1,9,8,7,8,8,5,5,5,9,9,9,9,20,19,80,66,0]\n",
    "s1=set(list1)\n",
    "list1=list(s1)\n",
    "list1.sort()\n",
    "print(list1)\n",
    "print(list1[1], 'is second smallest number')\n",
    "print(list1[-2], 'is second largest  number')\n"
   ]
  },
  {
   "cell_type": "code",
   "execution_count": null,
   "id": "728c1eb1",
   "metadata": {},
   "outputs": [],
   "source": [
    "#30. Write a Python program to unzip a list of tuples into individual lists.\n",
    "list1 = [(1,5,6), 1, 'raj', {1,8,3}]\n",
    "print(len(list1))\n",
    "t1, t2, t3, t4 = list1\n",
    "print([t1])\n",
    "print([t2])\n",
    "print([t3])\n",
    "print([t4])\n",
    "\n"
   ]
  },
  {
   "cell_type": "code",
   "execution_count": null,
   "id": "de97e4c9",
   "metadata": {},
   "outputs": [],
   "source": [
    "#31.Write a Python program to convert a list of tuples into a dictionary\n",
    "list1 = [('raj',7),('priya',8),('ram',9)]\n",
    "dict1 = dict(list1)\n",
    "print(dict1)\n"
   ]
  },
  {
   "cell_type": "code",
   "execution_count": null,
   "id": "143dbdf7",
   "metadata": {},
   "outputs": [],
   "source": [
    "#32.How will you create a dictionary using tuples in python?\n",
    "take a tuple as a input with pair values and then convert it into dictionary with keyword dict."
   ]
  },
  {
   "cell_type": "code",
   "execution_count": null,
   "id": "58c69e55",
   "metadata": {},
   "outputs": [],
   "source": [
    "#33.Write a Python script to sort (ascending and descending) a dictionary by value.\n",
    "dict1 = {77 : 'raj', 8 : 'ram', 97 : 'priya'}\n",
    "dict2 = sorted(dict1.items())\n",
    "print(dict2)\n",
    "\n"
   ]
  },
  {
   "cell_type": "code",
   "execution_count": null,
   "id": "ee202ee8",
   "metadata": {},
   "outputs": [],
   "source": [
    "#34.Write a Python script to concatenate following dictionaries to create a new one.\n",
    "dict1 = {7:'raj'}\n",
    "dict2 = {8:'ram'}\n",
    "dict3 = {9:'priya'}\n",
    "dict4 = {}\n",
    "for i in (dict1,dict2,dict3):\n",
    "    dict4.update(i)\n",
    "print(dict4)"
   ]
  },
  {
   "cell_type": "code",
   "execution_count": null,
   "id": "422f620c",
   "metadata": {},
   "outputs": [],
   "source": [
    "#35.Write a Python script to check if a given key already exists in a dictionary.\n",
    "dict1 = {'ram':9,'raj':21,'jay':9}\n",
    "key = input()\n",
    "if key in dict1:\n",
    "    print('key exist')\n",
    "else:\n",
    "    print('does not exist')\n"
   ]
  },
  {
   "cell_type": "code",
   "execution_count": null,
   "id": "a13bd342",
   "metadata": {},
   "outputs": [],
   "source": [
    "#36.How Do You Traverse Through A Dictionary Object In Python?"
   ]
  },
  {
   "cell_type": "code",
   "execution_count": null,
   "id": "db1d9213",
   "metadata": {},
   "outputs": [],
   "source": [
    "#37.How Do You Check The Presence Of A Key In A Dictionary?\n",
    "dict1 = {'ram':9,'raj':21,'jay':9}\n",
    "key = input()\n",
    "if key in dict1:\n",
    "    print('key exist')\n",
    "else:\n",
    "    print('does not exist')"
   ]
  },
  {
   "cell_type": "code",
   "execution_count": null,
   "id": "a51b3754",
   "metadata": {},
   "outputs": [],
   "source": [
    "#38.Write a Python script to print a dictionary where the keys are numbers between 1 and 15.\n",
    "dict1 = dict()\n",
    "for i in range(1,16):\n",
    "    dict1[i]=i*i\n",
    "print(dict1)"
   ]
  },
  {
   "cell_type": "code",
   "execution_count": null,
   "id": "65834fa7",
   "metadata": {},
   "outputs": [],
   "source": [
    "#39.Write a Python program to check multiple keys exists in a dictionary\n",
    "dict1 = {'raj':7, 'riya':8,'jay':9,'ram':9}\n",
    "for i in dict1:\n",
    "    print(i)"
   ]
  },
  {
   "cell_type": "code",
   "execution_count": null,
   "id": "757baa03",
   "metadata": {},
   "outputs": [],
   "source": [
    "#(1) What is List? How will you reverse a list?\n",
    "#List is datatype to store multiple values & datatypes\n",
    "list1=[1,2,3,4,5]\n",
    "list1.reverse()\n",
    "print(list1)"
   ]
  },
  {
   "cell_type": "code",
   "execution_count": null,
   "id": "f18989b7",
   "metadata": {},
   "outputs": [],
   "source": [
    "#(2)How will you remove last object from a list?\n",
    "list1=[1,2,3,4,5]\n",
    "list1.pop()\n",
    "print(list1)"
   ]
  },
  {
   "cell_type": "code",
   "execution_count": null,
   "id": "9ff21be9",
   "metadata": {},
   "outputs": [],
   "source": [
    "#(3) Suppose list1 is [2, 33, 222, 14, and 25], what is list1 [-1]?\n",
    "list1=[2,33,222,14,25]\n",
    "print(list1[-1])"
   ]
  },
  {
   "cell_type": "code",
   "execution_count": null,
   "id": "b3cf8c61",
   "metadata": {},
   "outputs": [],
   "source": [
    "#(4) Differentiate between append () and extend () methods?\n",
    "list1=[1,8,6,7,,2,3]\n",
    "list2=[7,9,4,3,5,8]\n",
    "list1.append('vishwa')\n",
    "print(list1)\n",
    "list2.extend('vishwa')\n",
    "print(list2)"
   ]
  },
  {
   "cell_type": "code",
   "execution_count": null,
   "id": "8e9c2a4d",
   "metadata": {},
   "outputs": [],
   "source": [
    "#(5) Write a Python function to get the largest number, smallest num and sum of all from a list where the values are square of numbers between 1 and 30\n",
    "def f1()"
   ]
  },
  {
   "cell_type": "code",
   "execution_count": null,
   "id": "877d4cd5",
   "metadata": {},
   "outputs": [],
   "source": [
    "#(12)Write a Python function that takes a list and returns a new list with unique elements of the first list\n",
    "def f1():\n",
    "    "
   ]
  },
  {
   "cell_type": "code",
   "execution_count": null,
   "id": "793a014a",
   "metadata": {},
   "outputs": [],
   "source": [
    "#40.Write a Python script to merge two Python dictionaries\n",
    "dict1 = {'ram':8,'riya':45,'jay':96}\n",
    "dict2 = {'raj':6,'priya':85}\n",
    "dict1.update(dict2)\n",
    "print(dict1)"
   ]
  },
  {
   "cell_type": "code",
   "execution_count": null,
   "id": "6a57e34f",
   "metadata": {
    "scrolled": true
   },
   "outputs": [],
   "source": [
    "#41.Write a Python program to map two lists into a dictionary\n",
    "list1 = [(1,'v'),(75,'s'),(94,'a')]\n",
    "\n",
    "result = map(dict,list1)\n",
    "\n",
    "print(list(result))\n"
   ]
  },
  {
   "cell_type": "code",
   "execution_count": null,
   "id": "c79a6bd4",
   "metadata": {},
   "outputs": [],
   "source": [
    "# 42.Write a Python program to combine two dictionary adding values for common keys.\n",
    "# o d1 = {'a': 100, 'b': 200, 'c':300}\n",
    "# o d2 = {'a': 300, 'b': 200,’d’:400}\n",
    "# Sample output: Counter ({'a': 400, 'b': 400,’d’: 400, 'c': 300}).\n",
    "\n",
    "d1 = {'a': 100, 'b': 200, 'c':300}\n",
    "d2 = {'a': 300, 'b': 200,'d':400}\n",
    "for i in d2:\n",
    "    if i in d1:\n",
    "        d2[i] = d2[i] + d1[i]\n",
    "    else:\n",
    "        pass\n",
    "print(d2)"
   ]
  },
  {
   "cell_type": "code",
   "execution_count": null,
   "id": "c64e3697",
   "metadata": {
    "scrolled": true
   },
   "outputs": [],
   "source": [
    "#43.Write a Python program to print all unique values in a dictionary.\n",
    "\n",
    "dict1 = {'raj':8, 'priya':90, 'ram':8, 'jay':40,'riya':90}\n",
    "l1 = list(dict1.values())\n",
    "print(set(l1))\n",
    "# for i in l1:\n",
    "#     if l1.count() == 0:\n",
    "#         print(i)\n",
    "#     else:\n",
    "#         pass\n"
   ]
  },
  {
   "cell_type": "code",
   "execution_count": null,
   "id": "ac363e3d",
   "metadata": {},
   "outputs": [],
   "source": [
    "# (44) Why Do You Use the Zip () Method in Python?\n",
    "#It merge two list like a zip and give a new list. In output we can get new list which have pairs in tuple."
   ]
  },
  {
   "cell_type": "code",
   "execution_count": null,
   "id": "282906c1",
   "metadata": {},
   "outputs": [],
   "source": [
    " # (45) Write a Python program to create and display all combinations of letters\n",
    "    # selecting each letter from a different key in a dictionary.\n",
    "    #  Expected Output:\n",
    "    #  ac ad bc bd\n",
    "    \n",
    "dict1 = {'1': ['a','b'], '2': ['c','d']}\n",
    "d1 = list(dict1.values())\n",
    "print(d1)\n",
    "for i in d1:\n",
    "    d2 = d1[0][0]+d1[1][0]\n",
    "    d3 = d1[0][0]+d1[1][1]\n",
    "    d4 = d1[0][1]+d1[1][0]\n",
    "    d5 = d1[0][1]+d1[1][1]\n",
    "    \n",
    "print(d2+' '+d3+' '+d4+' '+d5)"
   ]
  },
  {
   "cell_type": "code",
   "execution_count": null,
   "id": "d0cf21e4",
   "metadata": {},
   "outputs": [],
   "source": [
    "#46.Write a Python program to find the highest 3 values in a dictionary\n",
    "\n",
    "dict1 = {'raj':8, 'priya':90, 'ram':8, 'jay':40,'riya':90}\n",
    "l1 = list(dict1.values())\n",
    "l1.sort()\n",
    "print(l1)\n",
    "print('3 max values:',l1[-1:-4:-1])"
   ]
  },
  {
   "cell_type": "code",
   "execution_count": null,
   "id": "83a39c43",
   "metadata": {},
   "outputs": [],
   "source": [
    "# (47) Write a Python program to combine values in python list of dictionaries.\n",
    "# Sample data: [{'item': 'item1', 'amount': 400}, {'item': 'item2', 'amount': 300},{'item': 'item1', 'amount': 750}]\n",
    "#o Expected Output: Counter ({'item1': 1150, 'item2': 300})\n",
    "\n",
    "d1 =  [{'item': 'item1', 'amount': 400}, {'item': 'item2', 'amount': 300},{'item': 'item1', 'amount': 750}]\n",
    "\n",
    "for i in d1:\n",
    "    result[i['item']] += i['amount']\n",
    "print(result)\n"
   ]
  },
  {
   "cell_type": "code",
   "execution_count": null,
   "id": "56f2c374",
   "metadata": {},
   "outputs": [],
   "source": [
    "# (48)Write a Python program to create a dictionary from a string #incomplete\n",
    "# o Note: Track the count of the letters from the string. Sample string: 'w3resource'\\n\",\n",
    "# o Expected output: {'3': 1,’s’: 1, 'r': 2, 'u': 1, 'w': 1, 'c': 1, 'e': 2, 'o': 1},\n",
    "\n",
    "str1='w3resource'\n",
    "dict1 = {}\n",
    "for i in str1:\n",
    "    if i in str1:\n",
    "        dict1[i] += 1\n",
    "    else:\n",
    "        dict1[i] =1\n",
    "print(dict1)\n",
    "    "
   ]
  },
  {
   "cell_type": "code",
   "execution_count": null,
   "id": "ea4d1d72",
   "metadata": {},
   "outputs": [],
   "source": [
    "#49.Write a Python function to calculate the factorial of a number (a nonnegative integer)\n",
    "\n",
    "def fact(n):\n",
    "    if n == 0:\n",
    "        return 1\n",
    "    else:\n",
    "        return n*fact(n-1)\n",
    "n = int(input())\n",
    "fact(n)"
   ]
  },
  {
   "cell_type": "code",
   "execution_count": null,
   "id": "97fa70ba",
   "metadata": {},
   "outputs": [],
   "source": [
    "#50.Write a Python function to check whether a number is in a given range\n",
    "\n",
    "def fun1(n):\n",
    "    if n in range(1,11):\n",
    "        print('in the range')\n",
    "        return n\n",
    "    else:\n",
    "        print(\"not in range\")\n",
    "n = int(input())\n",
    "fun1(n)"
   ]
  },
  {
   "cell_type": "code",
   "execution_count": null,
   "id": "7fceb1b1",
   "metadata": {},
   "outputs": [],
   "source": [
    "#51.Write a Python function to check whether a number is perfect or not\n",
    "\n",
    "def perfect_number(n,sum):\n",
    "    sum = 0\n",
    "    for i in range(1, n):\n",
    "        if n % i == 0:\n",
    "            sum += i\n",
    "        else:\n",
    "            pass\n",
    "    if sum == n:\n",
    "        print('perfect number')\n",
    "    else:\n",
    "        print('not perfect')\n",
    "    \n",
    "n = int(input())\n",
    "perfect_number(n,0)"
   ]
  },
  {
   "cell_type": "code",
   "execution_count": null,
   "id": "f2d12bd3",
   "metadata": {},
   "outputs": [],
   "source": [
    "#52.Write a Python function that checks whether a passed string is palindrome or not\n",
    "\n",
    "def palindrome(n):\n",
    "    if n == n[len(n)::-1]:\n",
    "        print('palindrome')\n",
    "    else:\n",
    "        print('not palindrome')\n",
    "n = input()\n",
    "palindrome(n)\n",
    "\n"
   ]
  },
  {
   "cell_type": "code",
   "execution_count": null,
   "id": "1b1edcf1",
   "metadata": {},
   "outputs": [],
   "source": [
    "#53.How do you perform pattern matching in Python? Explain\n"
   ]
  },
  {
   "cell_type": "code",
   "execution_count": null,
   "id": "41bb9e62",
   "metadata": {},
   "outputs": [],
   "source": [
    "#54.What is lambda function in python? What we call a function which is incomplete version of a function?\n",
    "# lambda is a handy and short function\n",
    "# We should give single expression with multiple parameters\n",
    "# it is anonymous"
   ]
  },
  {
   "cell_type": "code",
   "execution_count": null,
   "id": "c3c7d643",
   "metadata": {},
   "outputs": [],
   "source": [
    "#55.How Many Basic Types Of Functions Are Available In Python?\n",
    "#Three:\n",
    "# 1.Built-in functions\n",
    "# 2.User-defined functions\n",
    "# 3.Anonymous function\n"
   ]
  },
  {
   "cell_type": "code",
   "execution_count": null,
   "id": "dbd61b52",
   "metadata": {},
   "outputs": [],
   "source": [
    "#56.How can you pick a random item from a list or tuple?\n",
    "import random\n",
    "l1 = [1,8,6,'fuh',5.5]\n",
    "l2 = random.choice(l1)\n",
    "l2"
   ]
  },
  {
   "cell_type": "code",
   "execution_count": null,
   "id": "b23d6c60",
   "metadata": {},
   "outputs": [],
   "source": [
    "#57.How can you pick a random item from a range?\n",
    "import random\n",
    "l2 = random.randrange(1,1000)\n",
    "l2"
   ]
  },
  {
   "cell_type": "code",
   "execution_count": null,
   "id": "8141e486",
   "metadata": {},
   "outputs": [],
   "source": [
    "#58.How can you get a random number in python?\n",
    "#with use randrange() and choice()\n",
    "#For this we want to import random\n"
   ]
  },
  {
   "cell_type": "code",
   "execution_count": null,
   "id": "d17ee86a",
   "metadata": {},
   "outputs": [],
   "source": [
    "#59.How will you set the starting value in generating random numbers?\n",
    "#The random number generator needs a number to start with (a seed value), to be able to generate a random number.\n",
    "#By default the random number generator uses the current system time. Use the seed() method to customize the start number of the random number generator."
   ]
  },
  {
   "cell_type": "code",
   "execution_count": null,
   "id": "979baaf2",
   "metadata": {},
   "outputs": [],
   "source": [
    "#60.How will you randomizes the items of a list in place?\n",
    "import random\n",
    "list1 = [8,6,4,7,2,'gsh',8.7]\n",
    "random.shuffle(list1)\n",
    "print('list=',list1)\n"
   ]
  },
  {
   "cell_type": "code",
   "execution_count": null,
   "id": "2f575e4c",
   "metadata": {},
   "outputs": [],
   "source": [
    "#61.Write a Python program to read a random line from a file\n",
    "# file1 = open('new.txt','x')\n",
    "# file1.close()\n",
    "import random\n",
    "def random_line(new):\n",
    "    file1 = open('new.txt','r').read().splitlines()\n",
    "    return random.choice(file1)\n",
    "#file1.readlines()\n",
    "print(random_line('new.txt'))"
   ]
  },
  {
   "cell_type": "code",
   "execution_count": null,
   "id": "159475fd",
   "metadata": {},
   "outputs": [],
   "source": [
    "#62.Write a Python program to convert degree to radian\n",
    "var1 = lambda: deg*0.0174\n",
    "deg = int(input('enter degree='))\n",
    "\n",
    "var1()"
   ]
  },
  {
   "cell_type": "code",
   "execution_count": null,
   "id": "193df74e",
   "metadata": {},
   "outputs": [],
   "source": [
    "#63.Write a Python program to calculate the area of a trapezoid\n",
    "\n",
    "area = lambda : ((a+b)/2)*(h)\n",
    "a = int(input('enter a='))\n",
    "b = int(input('enter b='))\n",
    "h = int(input('enter h='))\n",
    "area()\n",
    "\n"
   ]
  },
  {
   "cell_type": "code",
   "execution_count": null,
   "id": "0e31b41c",
   "metadata": {},
   "outputs": [],
   "source": [
    "#64.Write a Python program to calculate the area of a parallelogram\n",
    "area = lambda : b*h\n",
    "b = int(input('enter b='))\n",
    "h = int(input('enter h='))\n",
    "area()\n"
   ]
  },
  {
   "cell_type": "code",
   "execution_count": null,
   "id": "6d5eec93",
   "metadata": {},
   "outputs": [],
   "source": [
    "#65.Write a Python program to calculate surface volume and area of a cylinder\n",
    "pi = 3.14\n",
    "area = lambda : (2*pi*r*(h+r))\n",
    "r = int(input('enter r='))\n",
    "h = int(input('enter h='))\n",
    "print('area=',area())\n",
    "\n",
    "volume = lambda: pi*r*r*h\n",
    "r = int(input('enter r='))\n",
    "h = int(input('enter h='))\n",
    "print('volume=',volume())"
   ]
  },
  {
   "cell_type": "code",
   "execution_count": 2,
   "id": "c55e8119",
   "metadata": {},
   "outputs": [
    {
     "name": "stdout",
     "output_type": "stream",
     "text": [
      "8\n",
      "7\n"
     ]
    }
   ],
   "source": [
    "#66.Write a Python program to returns sum of all divisors of a number\n",
    "\n",
    "def sum_of_divisors(num):\n",
    "    divisors=[1]\n",
    "    for i in range(2,num):\n",
    "        if (num % i) ==0:\n",
    "            divisors.append(i)\n",
    "    print(sum(divisors))\n",
    "num = int(input())\n",
    "sum_of_divisors(num)"
   ]
  },
  {
   "cell_type": "code",
   "execution_count": 3,
   "id": "d10b5526",
   "metadata": {},
   "outputs": [
    {
     "name": "stdout",
     "output_type": "stream",
     "text": [
      "max numbers= 90.7\n",
      "min numbers= 1.1\n"
     ]
    }
   ],
   "source": [
    "#67.Write a Python program to find the maximum and minimum numbers from the specified decimal numbers.\n",
    "list1=[1.1,8.2,9.7,2.7,90.7,4.5]\n",
    "print('max numbers=',max(list1))\n",
    "print('min numbers=',min(list1))"
   ]
  }
 ],
 "metadata": {
  "kernelspec": {
   "display_name": "Python 3 (ipykernel)",
   "language": "python",
   "name": "python3"
  },
  "language_info": {
   "codemirror_mode": {
    "name": "ipython",
    "version": 3
   },
   "file_extension": ".py",
   "mimetype": "text/x-python",
   "name": "python",
   "nbconvert_exporter": "python",
   "pygments_lexer": "ipython3",
   "version": "3.9.12"
  }
 },
 "nbformat": 4,
 "nbformat_minor": 5
}
